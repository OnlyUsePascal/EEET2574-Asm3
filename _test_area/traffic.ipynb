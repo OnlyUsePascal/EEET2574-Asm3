{
 "cells": [
  {
   "cell_type": "code",
   "execution_count": 1,
   "metadata": {},
   "outputs": [],
   "source": [
    "import requests\n",
    "import asyncio\n",
    "import pymongo\n",
    "import time\n",
    "import os\n",
    "from pymongo import UpdateOne"
   ]
  },
  {
   "cell_type": "code",
   "execution_count": null,
   "metadata": {},
   "outputs": [],
   "source": [
    "# SLEEP_TIME = int(os.environ.get(\"SLEEP_TIME\", 1800))\n",
    "# TOMTOM_KEY = os.environ.get(\"TOMTOM\")\n",
    "# CLIENT = pymongo.MongoClient(os.environ.get(\"MONGO_COMPASS\"))\n",
    "TOMTOM_KEY = 'mXoFdnZNt6QKMjsivV5TxQKG5BezGf9M'\n",
    "RAW_DB = CLIENT.raw\n",
    "TRAFFIC_COLLECTION = RAW_DB.traffic"
   ]
  },
  {
   "cell_type": "code",
   "execution_count": null,
   "metadata": {},
   "outputs": [],
   "source": [
    "async def get_incidents(minLon, minLat, maxLon, maxLat):\n",
    "    traffic = (\n",
    "        f\"https://api.tomtom.com/traffic/services/5/incidentDetails?key={TOMTOM_KEY}\"\n",
    "        + \"&fields={incidents{type,geometry{type,coordinates},properties{id,iconCategory,magnitudeOfDelay,events{description,code,iconCategory},startTime,endTime,from,to,length,delay,roadNumbers,timeValidity,probabilityOfOccurrence,numberOfReports,lastReportTime}}}&language=en-GB&t=1111&timeValidityFilter=present&\"\n",
    "        + f\"bbox={minLon},{minLat},{maxLon},{maxLat}&categoryFilter=1,6\"\n",
    "    )\n",
    "    res = requests.get(traffic)\n",
    "    return res.json()[\"incidents\"]\n",
    "\n",
    "\n",
    "def get_upsert_incident_requests(documents):\n",
    "    update_requests = []\n",
    "    for document in documents:\n",
    "        document[\"_id\"] = document[\"properties\"][\"id\"]\n",
    "        update_requests.append(\n",
    "            UpdateOne({\"_id\": document[\"_id\"]}, {\"$set\": document}, upsert=True)\n",
    "        )\n",
    "\n",
    "    return update_requests\n",
    "\n",
    "\n",
    "def run():\n",
    "    cities_bboxes = {\n",
    "        \"Hanoi\": [105.2849, 20.5645, 106.0201, 21.3853],\n",
    "        \"Hai Phong\": [106.4005, 20.2208, 107.1187, 21.0203],\n",
    "        \"Da Nang\": [107.818782, 15.917955, 108.574858, 16.344307],\n",
    "        \"HCM City\": [106.532129, 10.66594, 106.831575, 10.883411],\n",
    "        \"Can Tho\": [105.225678, 9.919531, 105.845472, 10.325209],\n",
    "    }\n",
    "    iterator = 0\n",
    "    repeat_request = SLEEP_TIME / len(cities_bboxes)\n",
    "    cities = list(cities_bboxes.keys())\n",
    "\n",
    "    while True:\n",
    "        city = cities[iterator % len(cities)]\n",
    "        incidents = asyncio.run(\n",
    "            get_incidents(\n",
    "                cities_bboxes.get(city)[0],\n",
    "                cities_bboxes.get(city)[1],\n",
    "                cities_bboxes.get(city)[2],\n",
    "                cities_bboxes.get(city)[3],\n",
    "            )\n",
    "        )\n",
    "        upsert_incident_requests = get_upsert_incident_requests(incidents)\n",
    "        print(f\"Sending new incidents in {city} to raw db\\n\")\n",
    "        if len(upsert_incident_requests) > 0:\n",
    "            TRAFFIC_COLLECTION.bulk_write(upsert_incident_requests)\n",
    "            print(\"New incidents sent\\n\")\n",
    "            time.sleep(repeat_request)\n",
    "            print(\"Waking up!\\n\")\n",
    "\n",
    "        else:\n",
    "            print(f\"No new incidents in {city}\")\n",
    "        iterator += 1"
   ]
  }
 ],
 "metadata": {
  "kernelspec": {
   "display_name": "bigD",
   "language": "python",
   "name": "python3"
  },
  "language_info": {
   "codemirror_mode": {
    "name": "ipython",
    "version": 3
   },
   "file_extension": ".py",
   "mimetype": "text/x-python",
   "name": "python",
   "nbconvert_exporter": "python",
   "pygments_lexer": "ipython3",
   "version": "3.10.16"
  }
 },
 "nbformat": 4,
 "nbformat_minor": 2
}
